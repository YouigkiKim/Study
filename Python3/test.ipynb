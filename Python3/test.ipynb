{
 "cells": [
  {
   "cell_type": "markdown",
   "metadata": {},
   "source": [
    "---\n",
    "\n",
    "Softeer Coding Test\n",
    "\n",
    "---"
   ]
  },
  {
   "cell_type": "code",
   "execution_count": null,
   "metadata": {},
   "outputs": [],
   "source": [
    "# lv.1\n",
    "# 후보자의 수, 받은 표 수를 각 줄마다 입력받아서\n",
    "# 5표단위로 ++++ 나머지는 |의 개수로 표현하는 코드\n",
    "import sys\n",
    "\n",
    "candidates = int(input())\n",
    "votes = []\n",
    "for i in range(candidates):\n",
    "    vote = int(input())\n",
    "    votes.append(vote)\n",
    "\n",
    "\n",
    "for i in range(len(votes)):\n",
    "    for k in range(votes[i]//5):\n",
    "        print(\"++++\",end=' ')\n",
    "    for n in range(votes[i]%5):\n",
    "        print(\"|\",end='')\n",
    "    print(\"\")\n",
    "        "
   ]
  },
  {
   "cell_type": "code",
   "execution_count": null,
   "metadata": {},
   "outputs": [],
   "source": [
    "# 개선방안\n",
    "import sys\n",
    "\n",
    "candidates = int(input())\n",
    "# votes안에 list comprehention\n",
    "votes = [int(input()) for _ in range(candidates)]\n",
    "\n",
    "for vote in votes:\n",
    "    #print구문의 간결성 ++++과 ||를 같이 표현할 수 있다.\n",
    "    print(\"++++ \" * (vote // 5) + \"|\" * (vote % 5))"
   ]
  },
  {
   "cell_type": "markdown",
   "metadata": {},
   "source": [
    "---\n",
    "좌표를 입력받고 최소 y값의 좌표출력"
   ]
  },
  {
   "cell_type": "code",
   "execution_count": null,
   "metadata": {},
   "outputs": [],
   "source": [
    "import sys\n",
    "\n",
    "num = int(input())\n",
    "cord = []\n",
    "\n",
    "if num == 1:\n",
    "    print(input())\n",
    "\n",
    "elif num >1:\n",
    "    for _ in range(num):\n",
    "        x,y = input().split(' ')\n",
    "        cord.append([int(x),int(y)])\n",
    "    minValue = min(cord[1])\n",
    "    idx = cord[1].index(minValue)\n",
    "    print(cord[idx][0],cord[idx][1])"
   ]
  },
  {
   "cell_type": "code",
   "execution_count": null,
   "metadata": {},
   "outputs": [],
   "source": [
    "#코드 설명\n",
    "# 2차원에서 열의 최솟값을 비교하는 것이 관건인 문제\n",
    "# np라이브러리를 사용하지 않고 인덱스를 구하는 것은 상당히 귀찮음\n",
    "# 따라서 x y 를 각각 1차원으로 배열하는 것이 더 간편한거같다.\n",
    "\n",
    "import sys\n",
    "\n",
    "num = int(input())\n",
    "cord = [[],[]]\n",
    "for _ in range(num):\n",
    "    x,y = input().split(' ')\n",
    "    cord[0].append(int(x))\n",
    "    cord[1].append(int(y))\n",
    "minidx = cord[1].index(min(cord[1]))\n",
    "print(cord[0][minidx],cord[1][minidx])"
   ]
  },
  {
   "cell_type": "code",
   "execution_count": null,
   "metadata": {},
   "outputs": [],
   "source": [
    "#넘파이를 사용한 풀이\n",
    "import sys\n",
    "import numpy as np\n",
    "\n",
    "num = int(input())\n",
    "cord = np.zeros((num,2),int)\n",
    "print(cord)\n",
    "\n",
    "for i in range(num):\n",
    "    x,y = input().split(' ')\n",
    "    cord[i,0] = int(x)\n",
    "    cord[i,1] = int(y)\n",
    "print(cord)\n",
    "#np.argmin or argmax(np.array, axis = ?)\n",
    "minval = np.argmin(cord, axis = 1)\n",
    "minval_y = np.argmin(cord,axis=1)[1]\n",
    "minval_x = np.argmin(cord, axis=1)[0]\n",
    "print(minval)\n",
    "print(cord[np.argmin(cord,axis = 0)[1],0],cord[np.argmin(cord,axis = 0)[1],1])\n"
   ]
  },
  {
   "cell_type": "code",
   "execution_count": null,
   "metadata": {},
   "outputs": [],
   "source": [
    "#np를 사용해 x y 를 다른 행렬로 인풋\n",
    "#numpy 행렬 사용\n",
    "import sys\n",
    "import numpy as np\n",
    "\n",
    "num = int(input())\n",
    "cord = np.zeros((2,num),int)\n",
    "print(cord)\n",
    "for i in range(num):\n",
    "    x,y= input().split()\n",
    "    cord[0,i] = int(x)\n",
    "    cord[1,i] = int(y)\n",
    "    print(cord)\n",
    "print(np.argmin(cord, axis = 1))\n",
    "minidx = np.argmin(cord, axis = 0)[1]\n",
    "print(cord[0,minidx],cord[1,minidx])"
   ]
  },
  {
   "cell_type": "markdown",
   "metadata": {},
   "source": [
    "---\n",
    "옆 배열들과의 차이 중 최솟값의 개수 구하기"
   ]
  },
  {
   "cell_type": "code",
   "execution_count": null,
   "metadata": {},
   "outputs": [],
   "source": [
    "import sys\n",
    "\n",
    "num = int(input())\n",
    "loc = input().split()\n",
    "loc = [int(x) for x in loc]\n",
    "loc_diff = [loc[x+1]-loc[x] for x in range(len(loc)-1)]\n",
    "\n",
    "min_value = min(loc_diff)\n",
    "\n",
    "min_idx = [i for i,x in enumerate(loc_diff) if x == min_value]\n",
    "print(len(min_idx))\n"
   ]
  },
  {
   "cell_type": "code",
   "execution_count": null,
   "metadata": {},
   "outputs": [],
   "source": [
    "#코드설명\n",
    "#리스트 컴프리헨션을 사용해 리스트의 인덱스를 추출하는 것이 핵심인 문제\n",
    "import sys\n",
    "\n",
    "num = int(input())\n",
    "loc = input().split()\n",
    "loc = [int(x) for x in loc]\n",
    "loc_diff = [loc[x+1]-loc[x] for x in range(len(loc)-1)]\n",
    "\n",
    "min_value = min(loc_diff)\n",
    "\n",
    "# index메서드는 항상 첫번째 index를 반환하기 때문에 0만 반환된다. > enumerate()를 쓰는 것이 가장 바람직하다\n",
    "# min_idx = [loc_diff.index(x) for x in loc_diff if x == min_value]\n",
    "\n",
    "# 리스트의 조건으로 인덱스를 추출할떄는 enumerate를 쓰자\n",
    "min_idx = [i for i,x in enumerate(loc_diff) if x == min_value]\n",
    "print(len(min_idx))"
   ]
  },
  {
   "cell_type": "markdown",
   "metadata": {},
   "source": [
    "---\n",
    "리스트 요소들끼리의 곱 중 최대값을 출력하는 코드"
   ]
  },
  {
   "cell_type": "code",
   "execution_count": null,
   "metadata": {},
   "outputs": [],
   "source": [
    "import sys\n",
    "num = int(input())\n",
    "numbers = [int(x) for x in input().split()]\n",
    "product = []\n",
    "\n",
    "for i,x in enumerate(numbers):\n",
    "    for j,y in enumerate(numbers):\n",
    "        if i==j: # 같은 숫자가 2개입력된경우 오류발생\n",
    "            pass\n",
    "        else:\n",
    "            product.append(x*y)\n",
    "\n",
    "print(max(product))\n",
    "\n"
   ]
  },
  {
   "cell_type": "code",
   "execution_count": null,
   "metadata": {},
   "outputs": [],
   "source": [
    "num = int(input())\n",
    "numbers = [int(x) for x in input().split()]\n",
    "\n",
    "# 리스트를 정렬\n",
    "# \n",
    "numbers.sort()\n",
    "\n",
    "# 가장 큰 두 값의 곱을 계산\n",
    "# 만약 최대값이 하나만 있는 경우, 두 번째로 큰 값과 곱함\n",
    "\n",
    "max_product = numbers[-1] * numbers[-2]\n",
    "\n",
    "print(max_product)"
   ]
  },
  {
   "cell_type": "code",
   "execution_count": 10,
   "metadata": {},
   "outputs": [
    {
     "name": "stdout",
     "output_type": "stream",
     "text": [
      "10\n"
     ]
    }
   ],
   "source": [
    "#정렬 후 -숫자가 가장 큰 경우를 대비하기 위해 max사용\n",
    "import sys\n",
    "num= int(input())\n",
    "numbers = [int(x) for x in input().split()]\n",
    "numbers.sort()\n",
    "print(max(numbers[0]*numbers[1],numbers[-2]*numbers[-1]))\n",
    "\n"
   ]
  },
  {
   "cell_type": "markdown",
   "metadata": {},
   "source": [
    "---\n",
    "1주일 근로시간 계산 각 input마다 hh:mm hh:mm 으로 주어짐"
   ]
  },
  {
   "cell_type": "code",
   "execution_count": 16,
   "metadata": {},
   "outputs": [
    {
     "name": "stdout",
     "output_type": "stream",
     "text": [
      "09:17 18:00\n",
      "523\n",
      "09:17 18:00\n",
      "523\n",
      "09:17 18:00\n",
      "523\n",
      "09:17 18:00\n",
      "523\n",
      "09:17 18:00\n",
      "523\n",
      "2615\n"
     ]
    }
   ],
   "source": [
    "import sys\n",
    "\n",
    "week = 0\n",
    "for _ in range(5):\n",
    "    st,et = input().split()\n",
    "    et_h,et_m = et.split(':')\n",
    "    st_h,st_m = st.split(':')\n",
    "    day = int(et_h)*60+int(et_m)-(int(st_h)*60+int(st_m))\n",
    "    week = week+day\n",
    "print(week)"
   ]
  },
  {
   "cell_type": "markdown",
   "metadata": {},
   "source": [
    "---\n"
   ]
  },
  {
   "cell_type": "code",
   "execution_count": 18,
   "metadata": {},
   "outputs": [
    {
     "name": "stdout",
     "output_type": "stream",
     "text": [
      "B\n"
     ]
    }
   ],
   "source": [
    "import sys\n",
    "\n",
    "A,B = input().split()\n",
    "A=int(A)\n",
    "B=int(B)\n",
    "if A>B:\n",
    "    print('A')\n",
    "elif A<B:\n",
    "    print('B')\n",
    "else :\n",
    "    print('same')"
   ]
  },
  {
   "cell_type": "markdown",
   "metadata": {},
   "source": [
    "---\n",
    "x가 등장하는 위치의 인덱스 찾아서 문자열로 이어붙여 출력하기"
   ]
  },
  {
   "cell_type": "code",
   "execution_count": 31,
   "metadata": {},
   "outputs": [
    {
     "name": "stdout",
     "output_type": "stream",
     "text": [
      "xc\n",
      "C\n"
     ]
    }
   ],
   "source": [
    "import sys\n",
    "\n",
    "def ap(x):\n",
    "    alpha = {'q':'Q','w':'W','e':'E','r':'R','t':'T','y':'Y','u':'U','i':'I','o':'O','p':'P','a':'A','s':'S','d':'D','f':'F','g':'G','h':'H','j':'J','k':'K','l':'L','z':'Z','x':'X','c':'C','v':'V','b':'B','n':'N','m':'M'}\n",
    "    return alpha.get(x,x)\n",
    "\n",
    "        \n",
    "def check(x):\n",
    "    alpha = 'qwertyuiopasdfghjklzxcvbnm'\n",
    "    for y in alpha:\n",
    "        if x==y:\n",
    "            return True\n",
    "        else:\n",
    "            pass\n",
    "    return False\n",
    "\n",
    "def findidx(string):\n",
    "    for idx,items in enumerate(string):\n",
    "        if items == 'x':\n",
    "            return idx \n",
    "        elif items == 'X':\n",
    "            return idx\n",
    "    \n",
    "num = int(input())\n",
    "ans = ''\n",
    "for i in range(num):\n",
    "    string = input().split()\n",
    "    ans = ans + ap(string[1][findidx(string[0])])\n",
    "\n",
    "print(ans)\n",
    "\n",
    "\n",
    "\n"
   ]
  },
  {
   "cell_type": "markdown",
   "metadata": {},
   "source": [
    "---\n",
    "한정 용량 안에 여러 종류의 가치를 가진 물체들로 가장 큰 값어치를 만들기"
   ]
  },
  {
   "cell_type": "code",
   "execution_count": 16,
   "metadata": {},
   "outputs": [
    {
     "ename": "KeyboardInterrupt",
     "evalue": "Interrupted by user",
     "output_type": "error",
     "traceback": [
      "\u001b[0;31m---------------------------------------------------------------------------\u001b[0m",
      "\u001b[0;31mKeyboardInterrupt\u001b[0m                         Traceback (most recent call last)",
      "Cell \u001b[0;32mIn[16], line 4\u001b[0m\n\u001b[1;32m      1\u001b[0m \u001b[38;5;28;01mimport\u001b[39;00m \u001b[38;5;21;01msys\u001b[39;00m\n\u001b[1;32m      3\u001b[0m p_w \u001b[38;5;241m=\u001b[39m {}\n\u001b[0;32m----> 4\u001b[0m volume, num \u001b[38;5;241m=\u001b[39m \u001b[38;5;28;43minput\u001b[39;49m\u001b[43m(\u001b[49m\u001b[43m)\u001b[49m\u001b[38;5;241m.\u001b[39msplit()\n\u001b[1;32m      5\u001b[0m volume \u001b[38;5;241m=\u001b[39m \u001b[38;5;28mint\u001b[39m(volume)\n\u001b[1;32m      6\u001b[0m num \u001b[38;5;241m=\u001b[39m \u001b[38;5;28mint\u001b[39m(num)\n",
      "File \u001b[0;32m~/.pyenv/versions/3.9.18/lib/python3.9/site-packages/ipykernel/kernelbase.py:1282\u001b[0m, in \u001b[0;36mKernel.raw_input\u001b[0;34m(self, prompt)\u001b[0m\n\u001b[1;32m   1280\u001b[0m     msg \u001b[38;5;241m=\u001b[39m \u001b[38;5;124m\"\u001b[39m\u001b[38;5;124mraw_input was called, but this frontend does not support input requests.\u001b[39m\u001b[38;5;124m\"\u001b[39m\n\u001b[1;32m   1281\u001b[0m     \u001b[38;5;28;01mraise\u001b[39;00m StdinNotImplementedError(msg)\n\u001b[0;32m-> 1282\u001b[0m \u001b[38;5;28;01mreturn\u001b[39;00m \u001b[38;5;28;43mself\u001b[39;49m\u001b[38;5;241;43m.\u001b[39;49m\u001b[43m_input_request\u001b[49m\u001b[43m(\u001b[49m\n\u001b[1;32m   1283\u001b[0m \u001b[43m    \u001b[49m\u001b[38;5;28;43mstr\u001b[39;49m\u001b[43m(\u001b[49m\u001b[43mprompt\u001b[49m\u001b[43m)\u001b[49m\u001b[43m,\u001b[49m\n\u001b[1;32m   1284\u001b[0m \u001b[43m    \u001b[49m\u001b[38;5;28;43mself\u001b[39;49m\u001b[38;5;241;43m.\u001b[39;49m\u001b[43m_parent_ident\u001b[49m\u001b[43m[\u001b[49m\u001b[38;5;124;43m\"\u001b[39;49m\u001b[38;5;124;43mshell\u001b[39;49m\u001b[38;5;124;43m\"\u001b[39;49m\u001b[43m]\u001b[49m\u001b[43m,\u001b[49m\n\u001b[1;32m   1285\u001b[0m \u001b[43m    \u001b[49m\u001b[38;5;28;43mself\u001b[39;49m\u001b[38;5;241;43m.\u001b[39;49m\u001b[43mget_parent\u001b[49m\u001b[43m(\u001b[49m\u001b[38;5;124;43m\"\u001b[39;49m\u001b[38;5;124;43mshell\u001b[39;49m\u001b[38;5;124;43m\"\u001b[39;49m\u001b[43m)\u001b[49m\u001b[43m,\u001b[49m\n\u001b[1;32m   1286\u001b[0m \u001b[43m    \u001b[49m\u001b[43mpassword\u001b[49m\u001b[38;5;241;43m=\u001b[39;49m\u001b[38;5;28;43;01mFalse\u001b[39;49;00m\u001b[43m,\u001b[49m\n\u001b[1;32m   1287\u001b[0m \u001b[43m\u001b[49m\u001b[43m)\u001b[49m\n",
      "File \u001b[0;32m~/.pyenv/versions/3.9.18/lib/python3.9/site-packages/ipykernel/kernelbase.py:1325\u001b[0m, in \u001b[0;36mKernel._input_request\u001b[0;34m(self, prompt, ident, parent, password)\u001b[0m\n\u001b[1;32m   1322\u001b[0m \u001b[38;5;28;01mexcept\u001b[39;00m \u001b[38;5;167;01mKeyboardInterrupt\u001b[39;00m:\n\u001b[1;32m   1323\u001b[0m     \u001b[38;5;66;03m# re-raise KeyboardInterrupt, to truncate traceback\u001b[39;00m\n\u001b[1;32m   1324\u001b[0m     msg \u001b[38;5;241m=\u001b[39m \u001b[38;5;124m\"\u001b[39m\u001b[38;5;124mInterrupted by user\u001b[39m\u001b[38;5;124m\"\u001b[39m\n\u001b[0;32m-> 1325\u001b[0m     \u001b[38;5;28;01mraise\u001b[39;00m \u001b[38;5;167;01mKeyboardInterrupt\u001b[39;00m(msg) \u001b[38;5;28;01mfrom\u001b[39;00m \u001b[38;5;28;01mNone\u001b[39;00m\n\u001b[1;32m   1326\u001b[0m \u001b[38;5;28;01mexcept\u001b[39;00m \u001b[38;5;167;01mException\u001b[39;00m:\n\u001b[1;32m   1327\u001b[0m     \u001b[38;5;28mself\u001b[39m\u001b[38;5;241m.\u001b[39mlog\u001b[38;5;241m.\u001b[39mwarning(\u001b[38;5;124m\"\u001b[39m\u001b[38;5;124mInvalid Message:\u001b[39m\u001b[38;5;124m\"\u001b[39m, exc_info\u001b[38;5;241m=\u001b[39m\u001b[38;5;28;01mTrue\u001b[39;00m)\n",
      "\u001b[0;31mKeyboardInterrupt\u001b[0m: Interrupted by user"
     ]
    }
   ],
   "source": [
    "import sys\n",
    "\n",
    "p_w = []\n",
    "volume, num = input().split()\n",
    "volume = int(volume)\n",
    "num = int(num)\n",
    "\n",
    "for i in range(num):\n",
    "    weight, price = input().split()\n",
    "    p_w.append([int(price),int(weight)])\n",
    "\n",
    "p_w.sort(key = lambda x:x[0], reverse=True)\n",
    "priceOfBag = 0\n",
    "\n",
    "for price, weight  in p_w:\n",
    "    if volume <= 0:\n",
    "        break\n",
    "    elif volume >= weight:\n",
    "        priceOfBag += price*weight\n",
    "        volume -= weight\n",
    "    elif volume < weight:\n",
    "        priceOfBag += volume*price\n",
    "        volume = 0\n",
    "    else:\n",
    "        break\n",
    "print(priceOfBag)"
   ]
  },
  {
   "cell_type": "markdown",
   "metadata": {},
   "source": [
    "---\n",
    "바이러스의 수\n",
    " - 모듈러연산, 나머지정리.\n",
    " - pow(A,B,C) a**B%C반환\n",
    " - 계산과정에서 시간복잡도 감소. 2초 > 0.1초"
   ]
  },
  {
   "cell_type": "code",
   "execution_count": 8,
   "metadata": {},
   "outputs": [
    {
     "name": "stdout",
     "output_type": "stream",
     "text": [
      "674750052\n",
      "0.013614177703857422\n"
     ]
    }
   ],
   "source": [
    "import sys\n",
    "import time\n",
    "\n",
    "\n",
    "K,P,N = input().split()\n",
    "st = time.time()\n",
    "K = int(K)\n",
    "P = int(P)\n",
    "N = int(N)\n",
    "\n",
    "result = K*(P**N)%1000000007\n",
    "end = time.time()\n",
    "print(result)\n",
    "print(end-st)"
   ]
  },
  {
   "cell_type": "code",
   "execution_count": null,
   "metadata": {},
   "outputs": [],
   "source": [
    "import time\n",
    "\n",
    "K, P, N = map(int, input().split())  # 바로 정수로 변환\n",
    "st = time.time()\n",
    "\n",
    "# 모듈로 거듭제곱을 효율적으로 계산\n",
    "result = (K * pow(P, N, 1000000007)) % 1000000007\n",
    "\n",
    "end = time.time()\n",
    "print(result)\n",
    "print(end - st)"
   ]
  },
  {
   "cell_type": "markdown",
   "metadata": {},
   "source": [
    "---\n",
    "빙고맞추기"
   ]
  },
  {
   "cell_type": "code",
   "execution_count": null,
   "metadata": {},
   "outputs": [],
   "source": []
  },
  {
   "cell_type": "code",
   "execution_count": 27,
   "metadata": {},
   "outputs": [
    {
     "name": "stdout",
     "output_type": "stream",
     "text": [
      "[0. 0. 0. 0. 0. 0. 0. 0. 0. 0. 0. 0.]\n",
      "1\n"
     ]
    }
   ],
   "source": [
    "\n",
    "\n",
    "ground = np.zeros(12)\n",
    "print(ground)\n",
    "def rowminvalue(row):\n",
    "    mean = sum(row)/len(row)\n",
    "    bunpow = sum(abs(x-mean) for x in row)\n",
    "    return int(bunpow)\n",
    "\n",
    "ground = []\n",
    "for i in range(3):\n",
    "    ground.append(list(map(int,input().split())))\n",
    "ground_law = [[0, 0, 0],[0, 0, 0],[0,0,0]]\n",
    "for i in range(3):\n",
    "    for j in range(3):\n",
    "        ground_law[i][j] = ground[j][i]\n",
    "minvalues = []\n",
    "for i in range(3):\n",
    "    minvalues.append(rowminvalue(ground[i]))\n",
    "    minvalues.append(rowminvalue(ground_law[i]))\n",
    "\n",
    "print(min(minvalues))\n"
   ]
  },
  {
   "cell_type": "markdown",
   "metadata": {},
   "source": [
    "---\n",
    "변속기\n",
    " - 1-8 은 ascending\n",
    " - 8-1은 descending\n",
    " - 다른건 mixed출력"
   ]
  },
  {
   "cell_type": "code",
   "execution_count": 49,
   "metadata": {},
   "outputs": [
    {
     "name": "stdout",
     "output_type": "stream",
     "text": [
      "ascending\n"
     ]
    }
   ],
   "source": [
    "array = list(map(int,input().split()))\n",
    "reverse = [x for x in array]\n",
    "reverse.sort(reverse=True)\n",
    "ascending = [x for x in array]\n",
    "ascending.sort()\n",
    "if array == ascending:\n",
    "    print('ascending')\n",
    "elif array == reverse:\n",
    "    print('descending')\n",
    "else:\n",
    "    print('mixed')\n"
   ]
  },
  {
   "cell_type": "code",
   "execution_count": null,
   "metadata": {},
   "outputs": [],
   "source": []
  }
 ],
 "metadata": {
  "kernelspec": {
   "display_name": "Python 3",
   "language": "python",
   "name": "python3"
  },
  "language_info": {
   "codemirror_mode": {
    "name": "ipython",
    "version": 3
   },
   "file_extension": ".py",
   "mimetype": "text/x-python",
   "name": "python",
   "nbconvert_exporter": "python",
   "pygments_lexer": "ipython3",
   "version": "3.9.18"
  }
 },
 "nbformat": 4,
 "nbformat_minor": 2
}
