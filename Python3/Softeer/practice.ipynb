{
 "cells": [
  {
   "cell_type": "markdown",
   "metadata": {},
   "source": [
    "---\n",
    "\n",
    "Softeer Coding Practice\n",
    "\n",
    "---"
   ]
  },
  {
   "cell_type": "markdown",
   "metadata": {},
   "source": [
    "1. 성적 평균 구하기"
   ]
  },
  {
   "cell_type": "code",
   "execution_count": null,
   "metadata": {},
   "outputs": [],
   "source": [
    "# n명의 학생과 k개의 구간 각 구간마다 평균출력\n",
    "# 출력값은 소수점 2자리까지\n",
    "\n",
    "n,k = input().split()\n",
    "n=int(n)\n",
    "k=int(k)\n",
    "score_str=input().split()\n",
    "# 1. list comprehension(리스트 내포)를 사용해 str을 모두 int로 변환\n",
    "score =[float(i) for i in score_str]\n",
    "# 2. map함수사용\n",
    "#   map 함수 사용시 map객체로 반환되므로 list로 변환해주는 list()함수 사용\n",
    "score2 = list(map(float, score_str))\n",
    "K=[]\n",
    "\n",
    "# K구성방법1\n",
    "for i in range(k):\n",
    "    r=input().split()\n",
    "    r=[int(j) for j in r]\n",
    "    #행렬을 .append하면 행렬이 그대로 추가됨\n",
    "    K.append(r)\n",
    "# K구성방법2 > 여러 함수와 메서드를 겹쳐 한줄로 처리 가능\n",
    "for i in range(k):\n",
    "    K.append(list(map(int,input().split())))\n",
    "\n",
    "# 평균값출력1\n",
    "for i in range(k):\n",
    "    sum1=0\n",
    "    for j in range(K[i][0]-1,K[i][1]):\n",
    "        sum1=sum1+score[j]\n",
    "    #소수점2째자리에서 반올림 round(값,자릿수)\n",
    "    print(round(sum1/(K[i][1]-K[i][0]+1),2))\n",
    "    #소수점 지정자리수까지 포매팅 문제에서는 2번째자리까지 표기\n",
    "    print(\"{:.2f}\".format((sum1/(K[i][1]-K[i][0]+1))))\n",
    "\n",
    "# 평균값 출력2 한줄로 축소\n",
    "for i in range(k):\n",
    "    #\"{:,2f}\".format >> 소수점2째자리까지 표기\n",
    "    #score[K[i][0]-1:K[i][1]] 는 변수지정을 해도 되나 1줄로 축약가능을 표현하기 위해 아래와같이표현\n",
    "    #메모리의 사용과 중복연산의 trade off 관계. 이는 데이터셋의 크기와 연산량을 비교해 적절히 선택\n",
    "    print(\"{:.2f}\".format(sum(score[K[i][0]-1:K[i][1]])/len(score[K[i][0]-1:K[i][1]])))\n",
    "\n",
    "#파이썬에서 고차 행렬 출력방법 \n",
    "print(K[1][0])\n",
    "print(K)\n"
   ]
  },
  {
   "cell_type": "markdown",
   "metadata": {},
   "source": [
    "2. A+B출력"
   ]
  },
  {
   "cell_type": "code",
   "execution_count": null,
   "metadata": {},
   "outputs": [],
   "source": [
    "# 문제 : T개의 케이스 조건을 입력받아 Case #n: A+B출력하기\n",
    "# A B의 input은 A B \n",
    "# n은 1부터 시작\n",
    "\n",
    "T=int(input())\n",
    "A=[]\n",
    "B=[]\n",
    "\n",
    "for i in range(T):\n",
    "    case = input()\n",
    "    a,b = case.split()\n",
    "    A.append(int(a))\n",
    "    B.append(int(b))\n",
    "    \n",
    "for i in range(T):\n",
    "    print('Case #{}:'.format(i+1),A[i]+B[i])\n",
    "\n",
    "# 정리\n",
    "# 빈 리스트를 만들어 입력값을 처리한 후 리스트에 추가하는 문제\n",
    "# 문제의 출력에서 print를 여러가지 할 때 ,를 사용하면 자동으로 띄어쓰기됨\n",
    "# .append, .format, .split()의 메서드를 활용해 텍스트 처리 메서드로 해결"
   ]
  }
 ],
 "metadata": {
  "kernelspec": {
   "display_name": "Python 3",
   "language": "python",
   "name": "python3"
  },
  "language_info": {
   "codemirror_mode": {
    "name": "ipython",
    "version": 3
   },
   "file_extension": ".py",
   "mimetype": "text/x-python",
   "name": "python",
   "nbconvert_exporter": "python",
   "pygments_lexer": "ipython3",
   "version": "3.9.18"
  }
 },
 "nbformat": 4,
 "nbformat_minor": 2
}
