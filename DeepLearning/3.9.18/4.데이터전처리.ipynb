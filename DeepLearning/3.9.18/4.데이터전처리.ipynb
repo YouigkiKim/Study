{
 "cells": [
  {
   "cell_type": "markdown",
   "metadata": {},
   "source": [
    "---\n",
    "\n",
    "4. 데이터 전처리\n",
    "\n",
    "---"
   ]
  },
  {
   "cell_type": "markdown",
   "metadata": {},
   "source": [
    "4.1 누락된 데이터 다루기"
   ]
  },
  {
   "cell_type": "code",
   "execution_count": 3,
   "metadata": {},
   "outputs": [
    {
     "name": "stdout",
     "output_type": "stream",
     "text": [
      "df:\n",
      "      A     B     C    D\n",
      "0   1.0   2.0   3.0  4.0\n",
      "1   5.0   6.0   NaN  8.0\n",
      "2  10.0  11.0  12.0  NaN\n",
      "\n",
      "df.isnull().sum():\n",
      "A    0\n",
      "B    0\n",
      "C    1\n",
      "D    1\n",
      "dtype: int64\n",
      "df.values:\n",
      "[[ 1.  2.  3.  4.]\n",
      " [ 5.  6. nan  8.]\n",
      " [10. 11. 12. nan]]\n",
      "\n"
     ]
    }
   ],
   "source": [
    "# 4.1.1누락된 값 식별\n",
    "\n",
    "import pandas as pd\n",
    "import numpy as np\n",
    "from io import StringIO\n",
    "# CSV파일의 줄바꿈 기호로 ...쓸 필요 없음\n",
    "csv_data = \\\n",
    "'''A,B,C,D\n",
    "1.0,2.0,3.0,4.0\n",
    "5.0,6.0,,8.0\n",
    "10.0,11.0,12.0,'''\n",
    "\n",
    "df = pd.read_csv(StringIO(csv_data))\n",
    "print('df:')\n",
    "print(df)\n",
    "print('')\n",
    "print('df.isnull().sum():')\n",
    "print(df.isnull().sum())\n",
    "print('df.values:')\n",
    "print(df.values)\n",
    "print('')\n"
   ]
  },
  {
   "cell_type": "code",
   "execution_count": 4,
   "metadata": {},
   "outputs": [
    {
     "name": "stdout",
     "output_type": "stream",
     "text": [
      "df.dropna(axis=0)는 행 삭제\n",
      "     A    B    C    D\n",
      "0  1.0  2.0  3.0  4.0\n",
      "df.dropna(axis=1)는 열 삭제\n",
      "      A     B\n",
      "0   1.0   2.0\n",
      "1   5.0   6.0\n",
      "2  10.0  11.0\n",
      "\n"
     ]
    }
   ],
   "source": [
    "\n",
    "# 4.1.2 누락된 데이터 제외\n",
    "print('df.dropna(axis=0)는 행 삭제')\n",
    "print(df.dropna(axis=0)) # axis=0은 행 삭제\n",
    "print('df.dropna(axis=1)는 열 삭제')\n",
    "print(df.dropna(axis=1)) # axis=1은 열 삭제\n",
    "print('')\n"
   ]
  },
  {
   "cell_type": "code",
   "execution_count": 5,
   "metadata": {},
   "outputs": [
    {
     "name": "stdout",
     "output_type": "stream",
     "text": [
      "imputed_data\n",
      "[[ 1.   2.   3.   4. ]\n",
      " [ 5.   6.   7.5  8. ]\n",
      " [10.  11.  12.   6. ]]\n",
      "\n",
      "df.fillna(df.mean())      A     B     C    D\n",
      "0   1.0   2.0   3.0  4.0\n",
      "1   5.0   6.0   7.5  8.0\n",
      "2  10.0  11.0  12.0  6.0\n"
     ]
    }
   ],
   "source": [
    "\n",
    "#4.1.3 누락된 값 대체\n",
    "from sklearn.impute import SimpleImputer\n",
    "imr = SimpleImputer(missing_values=np.nan,strategy='mean')\n",
    "imr = imr.fit(df.values)\n",
    "imputed_data = imr.transform(df.values)\n",
    "print(\"imputed_data\")\n",
    "print(imputed_data)\n",
    "print('')\n",
    "# .fillna(df.mean())을 이용해 쉽게 빈 데이터 처리\n",
    "print('df.fillna(df.mean())',end='')\n",
    "print(df.fillna(df.mean()))\n",
    "#4.1.4 사이킷런 추정 api익히기\n",
    "#데이터값 학습을 통한 추정\n"
   ]
  },
  {
   "cell_type": "markdown",
   "metadata": {},
   "source": [
    "4.2 범주형 데이터 다루기"
   ]
  },
  {
   "cell_type": "code",
   "execution_count": 6,
   "metadata": {},
   "outputs": [],
   "source": [
    "#4.2.1 판다스를 사용한 범주형 데이터 인코딩\n",
    "import pandas as pd \n",
    "df= pd.DataFrame([\n",
    "    ['green','M',10.1,'class2'],\n",
    "    ['red', 'L', 13.5, 'class1'],\n",
    "    ['blue','XL',15.3,'class2']\n",
    "])\n",
    "df.columns = ['color','size','price','classlabel']\n"
   ]
  },
  {
   "cell_type": "code",
   "execution_count": 7,
   "metadata": {},
   "outputs": [
    {
     "data": {
      "text/plain": [
       "0    1\n",
       "1    2\n",
       "2    3\n",
       "Name: size, dtype: int64"
      ]
     },
     "execution_count": 7,
     "metadata": {},
     "output_type": "execute_result"
    }
   ],
   "source": [
    "\n",
    "#4.2.2 순서가 있는 특성 매핑\n",
    "size_mapping = {\n",
    "    'XL':3,\n",
    "    'L':2,\n",
    "    'M':1\n",
    "}\n",
    "# inv_size_mapping = {v: k for k,v size_mapping.items()} #inverse mapping 함수\n",
    "df['size'] = df['size'].map(size_mapping)\n",
    "df['size']\n"
   ]
  },
  {
   "cell_type": "code",
   "execution_count": 8,
   "metadata": {},
   "outputs": [],
   "source": [
    "\n",
    "#4.2.3 클래스 레이블 인코딩\n",
    "#순서: mapping할 label들을 문장 안의 반복문을 사용해 딕셔너리를 만들고 map함수로 매핑함\n",
    "import numpy as np\n",
    "\n",
    "class_mapping={label:idx for idx,label in enumerate(np.unique(df['classlabel']))}\n",
    "df['classlabel'] = df['classlabel'].map(class_mapping)\n"
   ]
  },
  {
   "cell_type": "code",
   "execution_count": 9,
   "metadata": {},
   "outputs": [
    {
     "name": "stdout",
     "output_type": "stream",
     "text": [
      "LabelEncoder를 사용해 추출한 X\n",
      "[[1 1 10.1]\n",
      " [2 2 13.5]\n",
      " [0 3 15.3]]\n",
      "\n",
      "pandas의 .get_dummies(column) 사용\n",
      "   price  size  color_blue  color_green  color_red\n",
      "0   10.1     1       False         True      False\n",
      "1   13.5     2       False        False       True\n",
      "2   15.3     3        True        False      False\n",
      "첫 열 삭제\n",
      "   price  size  color_green  color_red\n",
      "0   10.1     1         True      False\n",
      "1   13.5     2        False       True\n",
      "2   15.3     3        False      False\n",
      "\n"
     ]
    }
   ],
   "source": [
    "\n",
    "#4.2.4 순서가 없는 특성에 원-핫 인코딩 적용\n",
    "#특성을 간단하게 추출, color 인코딩\n",
    "from sklearn.preprocessing import LabelEncoder\n",
    "X = df[['color', 'size', 'price']].values\n",
    "color_le = LabelEncoder()\n",
    "X[:,0] = color_le.fit_transform(X[:,0])\n",
    "print('LabelEncoder를 사용해 추출한 X')\n",
    "print(X)\n",
    "#원 핫 인코더 1개열 적용\n",
    "from sklearn.preprocessing import OneHotEncoder\n",
    "X = df[['color','size','price']].values\n",
    "color_ohe = OneHotEncoder()\n",
    "color_ohe.fit_transform(X[:,0].reshape(-1,1))\n",
    "\n",
    "#원 핫 인코더 다수 열 적용\n",
    "\n",
    "#ColumTransformer사용\n",
    "from sklearn.compose import ColumnTransformer\n",
    "X = df[['color','size','price']].values\n",
    "\n",
    "c_transf = ColumnTransformer([\n",
    "    ('onehot',OneHotEncoder(dtype=int),[0]),\n",
    "    ('noting','passthrough',[1,2])\n",
    "])\n",
    "c_transf.fit_transform(X)\n",
    "\n",
    "#pandas get_dumies사용\n",
    "print('')\n",
    "print('pandas의 .get_dummies(column) 사용')\n",
    "print(pd.get_dummies(df[['price','color','size']]))\n",
    "print('첫 열 삭제')\n",
    "print(pd.get_dummies(df[['price','color','size']],drop_first=True))\n",
    "print('')"
   ]
  },
  {
   "cell_type": "markdown",
   "metadata": {},
   "source": [
    "4.3 데이터셋 나누기"
   ]
  },
  {
   "cell_type": "code",
   "execution_count": 10,
   "metadata": {},
   "outputs": [],
   "source": [
    "#4.3 데이터셋 나누기\n",
    "import pandas as pd\n",
    "df_wine = pd.read_csv('/Users/youngki/study/Deep Learning/3.9.18/wine.data',header=None)\n",
    "df_wine.columns = ['Class label','Alcohol','Malic acid','Ash','Alcalinity of ash',\n",
    "                   'Magnesium', 'total phenols','Flavanoids','Nonflavanoid phenols',\n",
    "                   'Proanthocyanins','Color intensity','Hue','OD280/OD315 of diluted wines','Proline']\n",
    "\n",
    "df_wine.head() #head()는 앞의 5개 데이터 보여줌\n",
    "\n",
    "from sklearn.model_selection import train_test_split\n",
    "\n",
    "X,y = df_wine.iloc[:,1:].values, df_wine.iloc[:,0].values\n",
    "X_train, X_test, y_train, y_test = \\\n",
    "    train_test_split(X,y,test_size=0.3,random_state=0,stratify=y) # stratify는 y의 데이터의 비율 유지"
   ]
  },
  {
   "cell_type": "markdown",
   "metadata": {},
   "source": [
    "4.4 특성스케일 맞추기"
   ]
  },
  {
   "cell_type": "code",
   "execution_count": null,
   "metadata": {},
   "outputs": [],
   "source": []
  },
  {
   "cell_type": "markdown",
   "metadata": {},
   "source": [
    "4.5 L1규제"
   ]
  },
  {
   "cell_type": "code",
   "execution_count": 12,
   "metadata": {},
   "outputs": [],
   "source": [
    "from sklearn.linear_model import LogisticRegression\n",
    "# C -> l1규제의 파라미터 규제정도와 정비례\n",
    "lr= LogisticRegression(penalty='l1', C = 1.0, solver = 'libnlinear', multi_class = 'ovr')\n"
   ]
  },
  {
   "cell_type": "code",
   "execution_count": null,
   "metadata": {},
   "outputs": [],
   "source": []
  }
 ],
 "metadata": {
  "kernelspec": {
   "display_name": "Python 3",
   "language": "python",
   "name": "python3"
  },
  "language_info": {
   "codemirror_mode": {
    "name": "ipython",
    "version": 3
   },
   "file_extension": ".py",
   "mimetype": "text/x-python",
   "name": "python",
   "nbconvert_exporter": "python",
   "pygments_lexer": "ipython3",
   "version": "3.9.18"
  }
 },
 "nbformat": 4,
 "nbformat_minor": 2
}
