{
 "cells": [
  {
   "cell_type": "code",
   "execution_count": 2,
   "metadata": {},
   "outputs": [],
   "source": [
    "import torch\n",
    "import numpy as np"
   ]
  },
  {
   "cell_type": "code",
   "execution_count": 3,
   "metadata": {},
   "outputs": [],
   "source": [
    "data = [[1,2],[3,4]]\n",
    "x_data = torch.tensor(data)\n"
   ]
  },
  {
   "cell_type": "code",
   "execution_count": 5,
   "metadata": {},
   "outputs": [],
   "source": [
    "np_array = np.array(data)\n",
    "x_np = torch.from_numpy(np_array)"
   ]
  },
  {
   "cell_type": "code",
   "execution_count": 7,
   "metadata": {},
   "outputs": [
    {
     "name": "stdout",
     "output_type": "stream",
     "text": [
      " Ones type tensor([[1, 1],\n",
      "        [1, 1]]) \n",
      " Rand type tensor([[0.3027, 0.5892],\n",
      "        [0.2444, 0.6007]])\n"
     ]
    }
   ],
   "source": [
    "x_ones = torch.ones_like(x_data)\n",
    "x_rand = torch.rand_like(x_data, dtype = torch.float)\n",
    "\n",
    "print(f\" Ones type {x_ones} \\n Rand type {x_rand}\")"
   ]
  },
  {
   "cell_type": "code",
   "execution_count": 9,
   "metadata": {},
   "outputs": [
    {
     "name": "stdout",
     "output_type": "stream",
     "text": [
      "Tensor : \n",
      " tensor([[0.9946, 0.8998, 0.3203],\n",
      "        [0.4439, 0.6323, 0.3367]])\n",
      "\n",
      "Tensor : \n",
      " tensor([[1., 1., 1.],\n",
      "        [1., 1., 1.]])\n",
      "\n",
      "Tensor : \n",
      " tensor([[0., 0., 0.],\n",
      "        [0., 0., 0.]])\n",
      "\n"
     ]
    }
   ],
   "source": [
    "shape = (2,3,)\n",
    "rand_tensor = torch.rand(shape)\n",
    "ones_tensor = torch.ones(shape)\n",
    "zeros_tensor = torch.zeros(shape)\n",
    "\n",
    "print(f\"Tensor : \\n {rand_tensor}\\n\")\n",
    "print(f\"Tensor : \\n {ones_tensor}\\n\")\n",
    "print(f\"Tensor : \\n {zeros_tensor}\\n\")"
   ]
  },
  {
   "cell_type": "code",
   "execution_count": 16,
   "metadata": {},
   "outputs": [
    {
     "name": "stdout",
     "output_type": "stream",
     "text": [
      "Shape of tensor : torch.Size([3, 4])\n",
      "Dtype of tensor : torch.float32\n",
      "Device of tensor : cpu\n",
      "Device of tensor2 : mps:0\n",
      "Device of tensor : mps:0\n"
     ]
    }
   ],
   "source": [
    "# Tensor Attribute - shape, dattatype, device\n",
    "\n",
    "# 텐서 저장을 gpu에할지 cpu에할지 정함\n",
    "device = torch.device(\"mps\" if torch.backends.mps.is_available() else \"cpu\")\n",
    "tensor = torch.rand(3,4)\n",
    "print(f\"Shape of tensor : {tensor.shape}\")\n",
    "print(f\"Dtype of tensor : {tensor.dtype}\")\n",
    "print(f\"Device of tensor : {tensor.device}\")\n",
    "\n",
    "# tensor2는 gpu에 저장\n",
    "tensor2 = torch.rand(3,4,device = device)\n",
    "print(f\"Device of tensor2 : {tensor2.device}\")\n",
    "\n",
    "#tensor1을 mps로 이동\n",
    "if torch.backends.mps.is_available():\n",
    "    tensor = tensor.to(\"mps\")\n",
    "print(f\"Device of tensor : {tensor.device}\")\n",
    "\n"
   ]
  },
  {
   "cell_type": "code",
   "execution_count": 25,
   "metadata": {},
   "outputs": [
    {
     "name": "stdout",
     "output_type": "stream",
     "text": [
      "First row : tensor([1., 1., 1., 1.])\n",
      "First column : tensor([1., 1., 1., 1.])\n",
      "Last column : tensor([1., 1., 1., 1.])\n",
      "Last column : tensor([1., 1., 1., 1.])\n",
      "tensor([[1., 1., 1., 1.],\n",
      "        [1., 1., 1., 1.],\n",
      "        [1., 1., 1., 1.],\n",
      "        [0., 0., 0., 0.]])\n",
      "tensor([[1., 0., 1., 1.],\n",
      "        [1., 0., 1., 1.],\n",
      "        [1., 0., 1., 1.],\n",
      "        [0., 0., 0., 0.]])\n"
     ]
    }
   ],
   "source": [
    "# tensor operate\n",
    "tensor = torch.ones(4,4)\n",
    "print(f\"First row : {tensor[0]}\")\n",
    "print(f\"First column : {tensor[:,0]}\")\n",
    "print(f\"Last column : {tensor[...,-1]}\")\n",
    "print(f\"Last column : {tensor[:,-1]}\")\n",
    "\n",
    "tensor[-1,:] = 0\n",
    "print(tensor)\n",
    "tensor[:,1] = 0\n",
    "print(tensor)\n",
    "\n"
   ]
  },
  {
   "cell_type": "code",
   "execution_count": 34,
   "metadata": {},
   "outputs": [
    {
     "name": "stdout",
     "output_type": "stream",
     "text": [
      "tensor([[1., 0., 1., 1., 1., 0., 1., 1., 1., 0., 1., 1.],\n",
      "        [1., 0., 1., 1., 1., 0., 1., 1., 1., 0., 1., 1.],\n",
      "        [1., 0., 1., 1., 1., 0., 1., 1., 1., 0., 1., 1.],\n",
      "        [0., 0., 0., 0., 0., 0., 0., 0., 0., 0., 0., 0.]])\n",
      "tensor([[[1., 0., 1., 1.],\n",
      "         [1., 0., 1., 1.],\n",
      "         [1., 0., 1., 1.],\n",
      "         [0., 0., 0., 0.]],\n",
      "\n",
      "        [[1., 0., 1., 1.],\n",
      "         [1., 0., 1., 1.],\n",
      "         [1., 0., 1., 1.],\n",
      "         [0., 0., 0., 0.]],\n",
      "\n",
      "        [[1., 0., 1., 1.],\n",
      "         [1., 0., 1., 1.],\n",
      "         [1., 0., 1., 1.],\n",
      "         [0., 0., 0., 0.]]])\n",
      "tensor([[[1., 1., 1., 1.],\n",
      "         [0., 0., 0., 0.],\n",
      "         [1., 1., 1., 1.],\n",
      "         [1., 1., 1., 1.]],\n",
      "\n",
      "        [[1., 1., 1., 1.],\n",
      "         [0., 0., 0., 0.],\n",
      "         [1., 1., 1., 1.],\n",
      "         [1., 1., 1., 1.]],\n",
      "\n",
      "        [[1., 1., 1., 1.],\n",
      "         [0., 0., 0., 0.],\n",
      "         [1., 1., 1., 1.],\n",
      "         [1., 1., 1., 1.]],\n",
      "\n",
      "        [[0., 0., 0., 0.],\n",
      "         [0., 0., 0., 0.],\n",
      "         [0., 0., 0., 0.],\n",
      "         [0., 0., 0., 0.]]])\n"
     ]
    }
   ],
   "source": [
    "# 1개의 행렬옆에 열방향으로 추가함\n",
    "t1 = torch.cat([tensor, tensor, tensor], dim = 1)\n",
    "print(t1)\n",
    "# 행방향으로 각 행렬이 개별적으로 추가됨\n",
    "t2 = torch.stack([tensor, tensor, tensor])\n",
    "print(t2)\n",
    "t3 = torch.stack([tensor, tensor,tensor,tensor], dim = 2)\n",
    "print(t3)"
   ]
  },
  {
   "cell_type": "code",
   "execution_count": 38,
   "metadata": {},
   "outputs": [
    {
     "name": "stdout",
     "output_type": "stream",
     "text": [
      "y1 : \n",
      " tensor([[3., 3., 3., 0.],\n",
      "        [3., 3., 3., 0.],\n",
      "        [3., 3., 3., 0.],\n",
      "        [0., 0., 0., 0.]]) \n",
      " y2 : \n",
      " tensor([[3., 3., 3., 0.],\n",
      "        [3., 3., 3., 0.],\n",
      "        [3., 3., 3., 0.],\n",
      "        [0., 0., 0., 0.]]) \n",
      " y3 : \n",
      " tensor([[3., 3., 3., 0.],\n",
      "        [3., 3., 3., 0.],\n",
      "        [3., 3., 3., 0.],\n",
      "        [0., 0., 0., 0.]])\n",
      "element multiply : \n",
      "tensor([[1., 0., 1., 1.],\n",
      "        [1., 0., 1., 1.],\n",
      "        [1., 0., 1., 1.],\n",
      "        [0., 0., 0., 0.]])\n"
     ]
    }
   ],
   "source": [
    "y1 = tensor @ tensor.T\n",
    "y2 = tensor.matmul(tensor.T)\n",
    "y3 = torch.rand_like(y1) # rand_like 는 shape를 똑같이 맞춰서 랜덤숫자로채워서만들어줌\n",
    "torch.matmul(tensor, tensor.T, out=y3)\n",
    "print(f\"y1 : \\n {y1} \\n y2 : \\n {y2} \\n y3 : \\n {y3}\")\n",
    "\n",
    "# element multiply\n",
    "\n",
    "z1 = tensor*tensor\n",
    "z2 = tensor.mul(tensor)\n",
    "z3 = torch.rand_like(tensor)\n",
    "torch.mul(tensor, tensor, out = z3)\n",
    "print(\"element multiply : \")\n",
    "print(z3)\n"
   ]
  },
  {
   "cell_type": "code",
   "execution_count": 43,
   "metadata": {},
   "outputs": [
    {
     "name": "stdout",
     "output_type": "stream",
     "text": [
      "agg type torch.float32\n",
      "agg_item type : <class 'float'>\n",
      "9.0 <class 'float'> 9.0\n"
     ]
    }
   ],
   "source": [
    "agg = tensor.sum()\n",
    "print(f\"agg type {agg.dtype}\")\n",
    "agg_item = agg.item()\n",
    "print(f\"agg_item type : {type(agg_item)}\")\n",
    "print(agg_item, type(agg_item), agg_item)"
   ]
  },
  {
   "cell_type": "code",
   "execution_count": 44,
   "metadata": {},
   "outputs": [
    {
     "name": "stdout",
     "output_type": "stream",
     "text": [
      "tensor([[1., 0., 1., 1.],\n",
      "        [1., 0., 1., 1.],\n",
      "        [1., 0., 1., 1.],\n",
      "        [0., 0., 0., 0.]]) \n",
      "\n",
      "tensor([[6., 5., 6., 6.],\n",
      "        [6., 5., 6., 6.],\n",
      "        [6., 5., 6., 6.],\n",
      "        [5., 5., 5., 5.]])\n"
     ]
    }
   ],
   "source": [
    "print(f\"{tensor} \\n\")\n",
    "# 바꿔치기연산 -> cpp에서 +=, -=, *= 등의 역할과 같음\n",
    "# 기록이 삭제되어 도함수계산에 문제발생 -> 권장하지 않음\n",
    "tensor.add_(5)\n",
    "print(tensor)"
   ]
  },
  {
   "cell_type": "code",
   "execution_count": 45,
   "metadata": {},
   "outputs": [
    {
     "name": "stdout",
     "output_type": "stream",
     "text": [
      "t : tensor([1., 1., 1., 1., 1.], dtype=torch.float64)\n",
      "n : [1. 1. 1. 1. 1.]\n",
      "n after t.add_(1) : [2. 2. 2. 2. 2.]\n"
     ]
    }
   ],
   "source": [
    "# tesnor 와 np배열은 메모리 공유 -> 서로 변경사항이 반영됨\n",
    "n = np.ones(5)\n",
    "t = torch.from_numpy(n)\n",
    "\n",
    "print(f\"t : {t}\")\n",
    "print(f\"n : {n}\")\n",
    "\n",
    "t.add_(1)\n",
    "print(f\"n after t.add_(1) : {n}\")"
   ]
  },
  {
   "cell_type": "code",
   "execution_count": null,
   "metadata": {},
   "outputs": [],
   "source": []
  }
 ],
 "metadata": {
  "kernelspec": {
   "display_name": "Python 3",
   "language": "python",
   "name": "python3"
  },
  "language_info": {
   "codemirror_mode": {
    "name": "ipython",
    "version": 3
   },
   "file_extension": ".py",
   "mimetype": "text/x-python",
   "name": "python",
   "nbconvert_exporter": "python",
   "pygments_lexer": "ipython3",
   "version": "3.9.18"
  }
 },
 "nbformat": 4,
 "nbformat_minor": 2
}
