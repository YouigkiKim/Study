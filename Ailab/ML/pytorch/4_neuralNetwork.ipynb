{
 "cells": [
  {
   "cell_type": "code",
   "execution_count": 15,
   "metadata": {},
   "outputs": [],
   "source": [
    "import os\n",
    "import torch\n",
    "from torch import nn\n",
    "from torch.utils.data import DataLoader\n",
    "from torchvision import datasets, transforms"
   ]
  },
  {
   "cell_type": "code",
   "execution_count": 16,
   "metadata": {},
   "outputs": [
    {
     "name": "stdout",
     "output_type": "stream",
     "text": [
      "Using mps device\n"
     ]
    }
   ],
   "source": [
    "device = (\n",
    "    \"cuda\"\n",
    "    if torch.cuda.is_available()\n",
    "    else \"mps\"\n",
    "    if torch.\n",
    "    backends.mps.is_available()\n",
    "    else \"cuda\"\n",
    ")\n",
    "print(f\"Using {device} device\")"
   ]
  },
  {
   "cell_type": "code",
   "execution_count": 17,
   "metadata": {},
   "outputs": [],
   "source": [
    "class NeuralNetwork(nn.Module):\n",
    "    def __init__(self):\n",
    "        super().__init__()\n",
    "        # 이미지 데이터를 평탄화하기 위해 사용 28,28 -> 28*28사이즈로 바꿈\n",
    "        self.flatten = nn.Flatten()\n",
    "        self.linear_relu_stack = nn.Sequential(\n",
    "            nn.Linear(28*28,512),\n",
    "            nn.ReLU(),\n",
    "            nn.Linear(512,512),\n",
    "            nn.ReLU(),\n",
    "            nn.Linear(512,10)\n",
    "        )\n",
    "\n",
    "    def forward(self, x):\n",
    "        x = self.flatten(x)\n",
    "        logits = self.linear_relu_stack(x)\n",
    "        return logits"
   ]
  },
  {
   "cell_type": "code",
   "execution_count": 18,
   "metadata": {},
   "outputs": [
    {
     "name": "stdout",
     "output_type": "stream",
     "text": [
      "NeuralNetwork(\n",
      "  (flatten): Flatten(start_dim=1, end_dim=-1)\n",
      "  (linear_relu_stack): Sequential(\n",
      "    (0): Linear(in_features=784, out_features=512, bias=True)\n",
      "    (1): ReLU()\n",
      "    (2): Linear(in_features=512, out_features=512, bias=True)\n",
      "    (3): ReLU()\n",
      "    (4): Linear(in_features=512, out_features=10, bias=True)\n",
      "  )\n",
      ")\n"
     ]
    }
   ],
   "source": [
    "model = NeuralNetwork().to(device)\n",
    "print(model)"
   ]
  },
  {
   "cell_type": "code",
   "execution_count": 19,
   "metadata": {},
   "outputs": [
    {
     "name": "stdout",
     "output_type": "stream",
     "text": [
      "Predicted class: tensor([3], device='mps:0')\n"
     ]
    }
   ],
   "source": [
    "X = torch.rand(1,28,28,device = device)\n",
    "logits = model(X)\n",
    "pred_probab = nn.Softmax(dim=1)(logits)\n",
    "y_pred = pred_probab.argmax(1)\n",
    "print(f\"Predicted class: {y_pred}\")"
   ]
  },
  {
   "cell_type": "code",
   "execution_count": 20,
   "metadata": {},
   "outputs": [
    {
     "name": "stdout",
     "output_type": "stream",
     "text": [
      "torch.Size([3, 784])\n"
     ]
    }
   ],
   "source": [
    "# 코드설ㄹ며ㅕㅇ\n",
    "input_image = torch.rand(3,28,28)\n",
    "flatten = nn.Flatten()\n",
    "flat_image = flatten(input_image)\n",
    "print(flat_image.size())"
   ]
  },
  {
   "cell_type": "code",
   "execution_count": 21,
   "metadata": {},
   "outputs": [
    {
     "name": "stdout",
     "output_type": "stream",
     "text": [
      "torch.Size([3, 20])\n"
     ]
    }
   ],
   "source": [
    "layer1 = nn.Linear(in_features= 28*28, out_features=20)\n",
    "hidden1 = layer1(flat_image)\n",
    "print(hidden1.size())"
   ]
  },
  {
   "cell_type": "code",
   "execution_count": 23,
   "metadata": {},
   "outputs": [
    {
     "name": "stdout",
     "output_type": "stream",
     "text": [
      "Before ReLU tensor([[-0.4729,  0.0625,  0.3081, -0.0023, -0.1194,  0.8025,  0.1693,  0.3140,\n",
      "         -0.2669,  0.5881,  0.1977, -0.0560, -0.0069, -0.0213, -0.0811, -0.3515,\n",
      "         -0.1473,  0.0946, -0.3027, -0.2213],\n",
      "        [-0.3871,  0.0300,  0.6979,  0.1388, -0.1773,  0.6211,  0.3806, -0.0071,\n",
      "         -0.5600,  0.1012, -0.4324, -0.3627, -0.1144, -0.1774,  0.0343, -0.3222,\n",
      "         -0.2046,  0.0752, -0.2370, -0.1022],\n",
      "        [-0.2250,  0.0765,  0.6630,  0.1970, -0.1038,  0.5875,  0.1328,  0.0992,\n",
      "          0.0151,  0.2777, -0.1792, -0.1469, -0.2617, -0.1447,  0.0022, -0.2376,\n",
      "          0.2065, -0.1929, -0.1505, -0.1227]], grad_fn=<AddmmBackward0>)\n",
      "\n",
      "\n",
      "After ReLU tensor([[0.0000, 0.0625, 0.3081, 0.0000, 0.0000, 0.8025, 0.1693, 0.3140, 0.0000,\n",
      "         0.5881, 0.1977, 0.0000, 0.0000, 0.0000, 0.0000, 0.0000, 0.0000, 0.0946,\n",
      "         0.0000, 0.0000],\n",
      "        [0.0000, 0.0300, 0.6979, 0.1388, 0.0000, 0.6211, 0.3806, 0.0000, 0.0000,\n",
      "         0.1012, 0.0000, 0.0000, 0.0000, 0.0000, 0.0343, 0.0000, 0.0000, 0.0752,\n",
      "         0.0000, 0.0000],\n",
      "        [0.0000, 0.0765, 0.6630, 0.1970, 0.0000, 0.5875, 0.1328, 0.0992, 0.0151,\n",
      "         0.2777, 0.0000, 0.0000, 0.0000, 0.0000, 0.0022, 0.0000, 0.2065, 0.0000,\n",
      "         0.0000, 0.0000]], grad_fn=<ReluBackward0>)\n",
      "\n"
     ]
    }
   ],
   "source": [
    "print(f\"Before ReLU {hidden1}\\n\\n\")\n",
    "hidden1 = nn.ReLU()(hidden1)\n",
    "print(f\"After ReLU {hidden1}\\n\")"
   ]
  },
  {
   "cell_type": "code",
   "execution_count": null,
   "metadata": {},
   "outputs": [],
   "source": [
    "# Sequential\n",
    "seq_module = nn.Sequential(\n",
    "    flatten,\n",
    "    layer1,\n",
    "    nn.ReLU(),\n",
    "    nn.Linear(20,10)\n",
    ")\n",
    "input_image = torch.rand(3,28,28)\n",
    "# logits 0-> softmax함수의 입력값을 대표하는 변수명\n",
    "logits = seq_module(input_image)"
   ]
  },
  {
   "cell_type": "code",
   "execution_count": 24,
   "metadata": {},
   "outputs": [],
   "source": [
    "# 이전 계층의 logits변수 (-inf ~ inf) 모델의 각 분류를 확률로 나타낼 수 있도록 0~1사이의 값으로 나타내줌\n",
    "softmax = nn.Softmax(dim=1)\n",
    "pred_probab = softmax(logits)"
   ]
  },
  {
   "cell_type": "code",
   "execution_count": 25,
   "metadata": {},
   "outputs": [
    {
     "name": "stdout",
     "output_type": "stream",
     "text": [
      "Model Structture: NeuralNetwork(\n",
      "  (flatten): Flatten(start_dim=1, end_dim=-1)\n",
      "  (linear_relu_stack): Sequential(\n",
      "    (0): Linear(in_features=784, out_features=512, bias=True)\n",
      "    (1): ReLU()\n",
      "    (2): Linear(in_features=512, out_features=512, bias=True)\n",
      "    (3): ReLU()\n",
      "    (4): Linear(in_features=512, out_features=10, bias=True)\n",
      "  )\n",
      ")\n",
      "\n",
      "\n",
      "Layer : linear_relu_stack.0.weight | Size torch.Size([512, 784]) | Values : tensor([[ 0.0155, -0.0044,  0.0181,  ...,  0.0167, -0.0281,  0.0102],\n",
      "        [-0.0157,  0.0201, -0.0156,  ...,  0.0175,  0.0338, -0.0167]],\n",
      "       device='mps:0', grad_fn=<SliceBackward0>) \n",
      "\n",
      "Layer : linear_relu_stack.0.bias | Size torch.Size([512]) | Values : tensor([-0.0119, -0.0081], device='mps:0', grad_fn=<SliceBackward0>) \n",
      "\n",
      "Layer : linear_relu_stack.2.weight | Size torch.Size([512, 512]) | Values : tensor([[ 0.0318,  0.0017,  0.0153,  ..., -0.0355,  0.0349,  0.0087],\n",
      "        [-0.0164,  0.0233,  0.0090,  ..., -0.0312, -0.0273, -0.0127]],\n",
      "       device='mps:0', grad_fn=<SliceBackward0>) \n",
      "\n",
      "Layer : linear_relu_stack.2.bias | Size torch.Size([512]) | Values : tensor([-0.0104,  0.0329], device='mps:0', grad_fn=<SliceBackward0>) \n",
      "\n",
      "Layer : linear_relu_stack.4.weight | Size torch.Size([10, 512]) | Values : tensor([[ 0.0126, -0.0107, -0.0353,  ...,  0.0433,  0.0269,  0.0122],\n",
      "        [-0.0305,  0.0332, -0.0109,  ...,  0.0229,  0.0019, -0.0290]],\n",
      "       device='mps:0', grad_fn=<SliceBackward0>) \n",
      "\n",
      "Layer : linear_relu_stack.4.bias | Size torch.Size([10]) | Values : tensor([-0.0137,  0.0158], device='mps:0', grad_fn=<SliceBackward0>) \n",
      "\n"
     ]
    }
   ],
   "source": [
    "print(f\"Model Structture: {model}\\n\\n\")\n",
    "\n",
    "for name, param in model.named_parameters():\n",
    "    print(f\"Layer : {name} | Size {param.size()} | Values : {param[:2]} \\n\")"
   ]
  },
  {
   "cell_type": "code",
   "execution_count": null,
   "metadata": {},
   "outputs": [],
   "source": []
  }
 ],
 "metadata": {
  "kernelspec": {
   "display_name": "Python 3",
   "language": "python",
   "name": "python3"
  },
  "language_info": {
   "codemirror_mode": {
    "name": "ipython",
    "version": 3
   },
   "file_extension": ".py",
   "mimetype": "text/x-python",
   "name": "python",
   "nbconvert_exporter": "python",
   "pygments_lexer": "ipython3",
   "version": "3.9.18"
  }
 },
 "nbformat": 4,
 "nbformat_minor": 2
}
